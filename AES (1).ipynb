{
  "nbformat": 4,
  "nbformat_minor": 0,
  "metadata": {
    "colab": {
      "provenance": []
    },
    "kernelspec": {
      "name": "python3",
      "display_name": "Python 3"
    },
    "language_info": {
      "name": "python"
    }
  },
  "cells": [
    {
      "cell_type": "markdown",
      "source": [
        "# Install all required libraries\n"
      ],
      "metadata": {
        "id": "2iG3t1oY78Ra"
      }
    },
    {
      "cell_type": "code",
      "execution_count": null,
      "metadata": {
        "colab": {
          "base_uri": "https://localhost:8080/"
        },
        "id": "R9s7t6A_jyEP",
        "outputId": "d1062eb5-6fa5-41d1-ad31-5422d3673030"
      },
      "outputs": [
        {
          "output_type": "stream",
          "name": "stdout",
          "text": [
            "Reading package lists... Done\n",
            "Building dependency tree       \n",
            "Reading state information... Done\n",
            "The following package was automatically installed and is no longer required:\n",
            "  libnvidia-common-525\n",
            "Use 'sudo apt autoremove' to remove it.\n",
            "The following NEW packages will be installed:\n",
            "  libportaudio2\n",
            "0 upgraded, 1 newly installed, 0 to remove and 23 not upgraded.\n",
            "Need to get 65.4 kB of archives.\n",
            "After this operation, 223 kB of additional disk space will be used.\n",
            "Get:1 http://archive.ubuntu.com/ubuntu focal/universe amd64 libportaudio2 amd64 19.6.0-1build1 [65.4 kB]\n",
            "Fetched 65.4 kB in 1s (103 kB/s)\n",
            "debconf: unable to initialize frontend: Dialog\n",
            "debconf: (No usable dialog-like program is installed, so the dialog based frontend cannot be used. at /usr/share/perl5/Debconf/FrontEnd/Dialog.pm line 76, <> line 1.)\n",
            "debconf: falling back to frontend: Readline\n",
            "debconf: unable to initialize frontend: Readline\n",
            "debconf: (This frontend requires a controlling tty.)\n",
            "debconf: falling back to frontend: Teletype\n",
            "dpkg-preconfigure: unable to re-open stdin: \n",
            "Selecting previously unselected package libportaudio2:amd64.\n",
            "(Reading database ... 128293 files and directories currently installed.)\n",
            "Preparing to unpack .../libportaudio2_19.6.0-1build1_amd64.deb ...\n",
            "Unpacking libportaudio2:amd64 (19.6.0-1build1) ...\n",
            "Setting up libportaudio2:amd64 (19.6.0-1build1) ...\n",
            "Processing triggers for libc-bin (2.31-0ubuntu9.9) ...\n"
          ]
        }
      ],
      "source": [
        "! sudo apt-get install libportaudio2     \n",
        "#Portable Real-Time Audio Library. PortAudio is a portable audio I/O library designed for cross-platform support of audio        "
      ]
    },
    {
      "cell_type": "code",
      "source": [
        "!pip install sounddevice\n",
        "#This Python module provides bindings for the PortAudio library and a few convenience functions to play and record NumPy arrays containing audio signals."
      ],
      "metadata": {
        "colab": {
          "base_uri": "https://localhost:8080/"
        },
        "id": "9T1Yu4_qkM5z",
        "outputId": "8de8aa21-3f5d-4ed8-8b67-0063bc6cfe9a"
      },
      "execution_count": null,
      "outputs": [
        {
          "output_type": "stream",
          "name": "stdout",
          "text": [
            "Looking in indexes: https://pypi.org/simple, https://us-python.pkg.dev/colab-wheels/public/simple/\n",
            "Collecting sounddevice\n",
            "  Downloading sounddevice-0.4.6-py3-none-any.whl (31 kB)\n",
            "Requirement already satisfied: CFFI>=1.0 in /usr/local/lib/python3.9/dist-packages (from sounddevice) (1.15.1)\n",
            "Requirement already satisfied: pycparser in /usr/local/lib/python3.9/dist-packages (from CFFI>=1.0->sounddevice) (2.21)\n",
            "Installing collected packages: sounddevice\n",
            "Successfully installed sounddevice-0.4.6\n"
          ]
        }
      ]
    },
    {
      "cell_type": "code",
      "source": [
        "!pip install crypto\n",
        "#It is a library that may be used in some cases to achieve security goals"
      ],
      "metadata": {
        "colab": {
          "base_uri": "https://localhost:8080/"
        },
        "id": "R8F6qJ00kS21",
        "outputId": "1e058841-c8c7-483a-8d4e-84a3e36478d1"
      },
      "execution_count": null,
      "outputs": [
        {
          "output_type": "stream",
          "name": "stdout",
          "text": [
            "Looking in indexes: https://pypi.org/simple, https://us-python.pkg.dev/colab-wheels/public/simple/\n",
            "Collecting crypto\n",
            "  Downloading crypto-1.4.1-py2.py3-none-any.whl (18 kB)\n",
            "Collecting shellescape\n",
            "  Downloading shellescape-3.8.1-py2.py3-none-any.whl (3.1 kB)\n",
            "Collecting Naked\n",
            "  Downloading Naked-0.1.32-py2.py3-none-any.whl (587 kB)\n",
            "\u001b[2K     \u001b[90m━━━━━━━━━━━━━━━━━━━━━━━━━━━━━━━━━━━━━━\u001b[0m \u001b[32m587.7/587.7 KB\u001b[0m \u001b[31m12.0 MB/s\u001b[0m eta \u001b[36m0:00:00\u001b[0m\n",
            "\u001b[?25hRequirement already satisfied: pyyaml in /usr/local/lib/python3.9/dist-packages (from Naked->crypto) (6.0)\n",
            "Requirement already satisfied: requests in /usr/local/lib/python3.9/dist-packages (from Naked->crypto) (2.27.1)\n",
            "Requirement already satisfied: charset-normalizer~=2.0.0 in /usr/local/lib/python3.9/dist-packages (from requests->Naked->crypto) (2.0.12)\n",
            "Requirement already satisfied: certifi>=2017.4.17 in /usr/local/lib/python3.9/dist-packages (from requests->Naked->crypto) (2022.12.7)\n",
            "Requirement already satisfied: urllib3<1.27,>=1.21.1 in /usr/local/lib/python3.9/dist-packages (from requests->Naked->crypto) (1.26.15)\n",
            "Requirement already satisfied: idna<4,>=2.5 in /usr/local/lib/python3.9/dist-packages (from requests->Naked->crypto) (3.4)\n",
            "Installing collected packages: shellescape, Naked, crypto\n",
            "Successfully installed Naked-0.1.32 crypto-1.4.1 shellescape-3.8.1\n"
          ]
        }
      ]
    },
    {
      "cell_type": "code",
      "source": [
        "!pip install pycrypto\n",
        "#A collection of cryptographic modules implementing various algorithms and protocols(AES,RSA,etc)"
      ],
      "metadata": {
        "colab": {
          "base_uri": "https://localhost:8080/"
        },
        "id": "d7l8FenhkXKu",
        "outputId": "ed184283-e015-401b-b261-8c4d38f176e5"
      },
      "execution_count": null,
      "outputs": [
        {
          "output_type": "stream",
          "name": "stdout",
          "text": [
            "Looking in indexes: https://pypi.org/simple, https://us-python.pkg.dev/colab-wheels/public/simple/\n",
            "Collecting pycrypto\n",
            "  Downloading pycrypto-2.6.1.tar.gz (446 kB)\n",
            "\u001b[?25l     \u001b[90m━━━━━━━━━━━━━━━━━━━━━━━━━━━━━━━━━━━━━━━━\u001b[0m \u001b[32m0.0/446.2 KB\u001b[0m \u001b[31m?\u001b[0m eta \u001b[36m-:--:--\u001b[0m\r\u001b[2K     \u001b[91m━━━━━━━━━━━━━━━━━━━━━━━━━\u001b[0m\u001b[90m╺\u001b[0m\u001b[90m━━━━━━━━━━━━━\u001b[0m \u001b[32m286.7/446.2 KB\u001b[0m \u001b[31m8.5 MB/s\u001b[0m eta \u001b[36m0:00:01\u001b[0m\r\u001b[2K     \u001b[90m━━━━━━━━━━━━━━━━━━━━━━━━━━━━━━━━━━━━━━━\u001b[0m \u001b[32m446.2/446.2 KB\u001b[0m \u001b[31m9.9 MB/s\u001b[0m eta \u001b[36m0:00:00\u001b[0m\n",
            "\u001b[?25h  Preparing metadata (setup.py) ... \u001b[?25l\u001b[?25hdone\n",
            "Building wheels for collected packages: pycrypto\n",
            "  Building wheel for pycrypto (setup.py) ... \u001b[?25l\u001b[?25hdone\n",
            "  Created wheel for pycrypto: filename=pycrypto-2.6.1-cp39-cp39-linux_x86_64.whl size=499021 sha256=fbdb9cbaa1eb3d1c3b354bdbecb92cbdd1d8a98a433ff36b88bf8730242170e3\n",
            "  Stored in directory: /root/.cache/pip/wheels/9d/29/32/8b8f22481bec8b0fbe7087927336ec167faff2ed9db849448f\n",
            "Successfully built pycrypto\n",
            "Installing collected packages: pycrypto\n",
            "Successfully installed pycrypto-2.6.1\n"
          ]
        }
      ]
    },
    {
      "cell_type": "code",
      "source": [
        "from scipy.io import wavfile \n",
        "import numpy as np\n",
        "import matplotlib.pyplot as plt\n",
        "import sounddevice as sd\n",
        "import random\n",
        "import string\n",
        "from Crypto.Cipher import AES\n",
        "import time\n",
        "\n",
        "\n",
        "#wav file -- A lightweight package to read/write wave audio files to/from lists of native Python types.\n",
        "#time -- used to calculate time taken"
      ],
      "metadata": {
        "id": "sQvNOKlekm6j"
      },
      "execution_count": null,
      "outputs": []
    },
    {
      "cell_type": "code",
      "source": [
        "fs,data = wavfile.read('/content/8bitaudio.wav')                                #reading the wav file\n",
        "plt.plot(data)                                                                  #ploting the file based on the records in the wav file\n",
        "plt.title(\"Original audio plot\")\n",
        "print(data)"
      ],
      "metadata": {
        "colab": {
          "base_uri": "https://localhost:8080/",
          "height": 608
        },
        "id": "FMdvcrTXlOpb",
        "outputId": "fe477b60-1160-4e27-cfea-b002f1a0c86c"
      },
      "execution_count": null,
      "outputs": [
        {
          "output_type": "stream",
          "name": "stderr",
          "text": [
            "<ipython-input-7-4cec6bfec00c>:1: WavFileWarning: Chunk (non-data) not understood, skipping it.\n",
            "  fs,data = wavfile.read('/content/8bitaudio.wav')         #reading the wav file\n"
          ]
        },
        {
          "output_type": "stream",
          "name": "stdout",
          "text": [
            "[[128 128]\n",
            " [128 128]\n",
            " [128 128]\n",
            " ...\n",
            " [128 128]\n",
            " [128 128]\n",
            " [128 128]]\n"
          ]
        },
        {
          "output_type": "display_data",
          "data": {
            "text/plain": [
              "<Figure size 640x480 with 1 Axes>"
            ],
            "image/png": "[encoded data removed]"
          },
          "metadata": {}
        }
      ]
    },
    {
      "cell_type": "markdown",
      "source": [
        "**ENCRYPTION**"
      ],
      "metadata": {
        "id": "2djemkDRF0IQ"
      }
    },
    {
      "cell_type": "code",
      "source": [
        "with open('/content/8bitaudio.wav', 'rb') as fd:                                #opening the wav file\n",
        "    contents = fd.read()                                                        #reading the wav file"
      ],
      "metadata": {
        "id": "2UBGraPQFr48"
      },
      "execution_count": null,
      "outputs": []
    },
    {
      "cell_type": "code",
      "source": [
        "t1=time.time()                                                                  #initialising the time variable"
      ],
      "metadata": {
        "id": "dOnX8MiA1KPM"
      },
      "execution_count": null,
      "outputs": []
    },
    {
      "cell_type": "code",
      "source": [
        "AES_KEY = ''.join(random.choice(string.ascii_uppercase + string.ascii_lowercase + string.digits) for x in range(16))   \n",
        "#getting a random values for AES_key of resp. size(128,192,256)\n",
        "\n",
        "AES_IV = ''.join(random.choice(string.ascii_uppercase + string.ascii_lowercase + string.digits) for x in range(16))\n",
        "#getting a random values for AES_IV \n",
        "#IV -- starting variable is an input to a cryptographic primitive being used to provide the initial state."
      ],
      "metadata": {
        "id": "vUnRq31uuEU2"
      },
      "execution_count": null,
      "outputs": []
    },
    {
      "cell_type": "code",
      "source": [
        "#printing the key and IV\n",
        "\n",
        "print(\"AES Key is \", AES_KEY)\n",
        "print(\"AES Initialization vector is \", AES_IV)"
      ],
      "metadata": {
        "id": "9yOkphntuFyd",
        "colab": {
          "base_uri": "https://localhost:8080/"
        },
        "outputId": "f42395d7-58b8-4f19-95af-625cccaba28c"
      },
      "execution_count": null,
      "outputs": [
        {
          "output_type": "stream",
          "name": "stdout",
          "text": [
            "AES Key is  C6UO6f9KfODlyDkY\n",
            "AES Initialization vector is  LUppBB8lNWssQQ3s\n"
          ]
        }
      ]
    },
    {
      "cell_type": "code",
      "source": [
        "# The AES cipher is created with CBC Mode wherein each block is “chained” to the previous block in the stream\n",
        "# Also, for AES encryption using pycrypto, you need to ensure that the data is a multiple of 16-bytes in length.\n",
        "# Pad the buffer if it is not and include the size of the data at the beginning of the output, so the receiver can decrypt properly.\n",
        "\n",
        "encryptor = AES.new(AES_KEY.encode(\"utf-8\"), AES.MODE_CFB, AES_IV.encode(\"utf-8\"))\n",
        "encrypted_audio = encryptor.encrypt(contents)"
      ],
      "metadata": {
        "id": "ziGe5IIGuvkM"
      },
      "execution_count": null,
      "outputs": []
    },
    {
      "cell_type": "code",
      "source": [
        "# Save the encrypted audio file\n",
        "\n",
        "with open('/content/encrypted_audio_file.wav', 'wb') as fd:\n",
        "    fd.write(encrypted_audio)\n",
        "print(\"A file titled 'encrypted_audio_file.wav' is generated which is the encrypted audio to be communicated\")"
      ],
      "metadata": {
        "id": "rMo6IPYLuJvY",
        "colab": {
          "base_uri": "https://localhost:8080/"
        },
        "outputId": "2610f1e9-9da8-49cb-9a88-5e284807e958"
      },
      "execution_count": null,
      "outputs": [
        {
          "output_type": "stream",
          "name": "stdout",
          "text": [
            "A file titled 'encrypted_audio_file.wav' is generated which is the encrypted audio to be communicated\n"
          ]
        }
      ]
    },
    {
      "cell_type": "code",
      "source": [
        "# calculating the time taken and printing\n",
        "\n",
        "t2=time.time()\n",
        "print('Time taken for encryption - ',(t2-t1)*1000,'ms')\n",
        "time.sleep(10)"
      ],
      "metadata": {
        "id": "ITWaYBQk3Ymd",
        "colab": {
          "base_uri": "https://localhost:8080/"
        },
        "outputId": "e76d2044-bf4e-4b3f-ce01-3d8bed0670ba"
      },
      "execution_count": null,
      "outputs": [
        {
          "output_type": "stream",
          "name": "stdout",
          "text": [
            "Time taken for encryption -  53.47251892089844 ms\n"
          ]
        }
      ]
    },
    {
      "cell_type": "markdown",
      "source": [
        "**DECRYPTION**"
      ],
      "metadata": {
        "id": "41DtsXZJF65Q"
      }
    },
    {
      "cell_type": "code",
      "source": [
        "with open('/content/encrypted_audio_file.wav', 'rb') as fd:                     #opening the wav file\n",
        "    contents = fd.read()                                                        #reading the wav file"
      ],
      "metadata": {
        "id": "pm6DRUzou_OW"
      },
      "execution_count": null,
      "outputs": []
    },
    {
      "cell_type": "code",
      "source": [
        "# time calculation\n",
        "\n",
        "t3=time.time()"
      ],
      "metadata": {
        "id": "Dz6_WpJx34in"
      },
      "execution_count": null,
      "outputs": []
    },
    {
      "cell_type": "code",
      "source": [
        "# again doing aes to the encrypted file\n",
        "\n",
        "decryptor = AES.new(AES_KEY.encode(\"utf-8\"), AES.MODE_CFB, AES_IV.encode(\"utf-8\"))\n",
        "decrypted_audio = decryptor.decrypt(contents)"
      ],
      "metadata": {
        "id": "TIztFjcUwAsu"
      },
      "execution_count": null,
      "outputs": []
    },
    {
      "cell_type": "code",
      "source": [
        "# Save the decrypted audio file\n",
        "\n",
        "with open('/content/decrypted_audio_file.wav', 'wb') as fd:\n",
        "    fd.write(decrypted_audio)"
      ],
      "metadata": {
        "id": "FQ3mBT75wLuE"
      },
      "execution_count": null,
      "outputs": []
    },
    {
      "cell_type": "code",
      "source": [
        "# calculating the time taken and printing\n",
        "\n",
        "t4=time.time()\n",
        "print('Time taken for decryption - ',(t4-t3)*1000,'ms')"
      ],
      "metadata": {
        "id": "nfu39kzk4EBD",
        "colab": {
          "base_uri": "https://localhost:8080/"
        },
        "outputId": "763b0c0d-9a27-4252-ac1d-ec183a7492aa"
      },
      "execution_count": null,
      "outputs": [
        {
          "output_type": "stream",
          "name": "stdout",
          "text": [
            "Time taken for decryption -  44.09956932067871 ms\n"
          ]
        }
      ]
    },
    {
      "cell_type": "code",
      "source": [
        "#ploting the decrypted audio file which will be equal to original\n",
        "\n",
        "fs, data = wavfile.read('/content/decrypted_audio_file.wav')\n",
        "plt.plot(data)            # fs = sampling frequency = 44.1kHz\n",
        "plt.title(\"Decrypted Audio Plot\")\n",
        "data_1 = np.asarray(data, dtype = np.int32)"
      ],
      "metadata": {
        "id": "uJw6jR8nwROd",
        "colab": {
          "base_uri": "https://localhost:8080/",
          "height": 412
        },
        "outputId": "fbb0a293-7db0-442a-eb53-0b0967a103bb"
      },
      "execution_count": null,
      "outputs": [
        {
          "output_type": "stream",
          "name": "stderr",
          "text": [
            "<ipython-input-20-a1cec439ab97>:1: WavFileWarning: Chunk (non-data) not understood, skipping it.\n",
            "  fs, data = wavfile.read('/content/decrypted_audio_file.wav')\n"
          ]
        },
        {
          "output_type": "display_data",
          "data": {
            "text/plain": [
              "<Figure size 640x480 with 1 Axes>"
            ],
            "image/png": "[encoded data removed]"
          },
          "metadata": {}
        }
      ]
    },
    {
      "cell_type": "code",
      "source": [],
      "metadata": {
        "id": "PlBcWpsR4U4p"
      },
      "execution_count": null,
      "outputs": []
    }
  ]
}